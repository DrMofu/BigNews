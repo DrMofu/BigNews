{
 "cells": [
  {
   "cell_type": "code",
   "execution_count": 1,
   "metadata": {},
   "outputs": [],
   "source": [
    "import requests\n",
    "import json\n",
    "import re\n",
    "import sqlite3\n",
    "\n",
    "PER_PAGE =20\n",
    "newsurl = 'https://36kr.com/api/newsflash?per_page=%s' % PER_PAGE\n",
    "res = requests.get(newsurl) # 获取html文件信息\n",
    "res.encoding = 'utf-8'  # 很重要！\n",
    "ans = json.loads(res.text)\n",
    "\n",
    "conn = sqlite3.connect('bignews.db')\n",
    "c = conn.cursor()"
   ]
  },
  {
   "cell_type": "code",
   "execution_count": 11,
   "metadata": {},
   "outputs": [
    {
     "name": "stdout",
     "output_type": "stream",
     "text": [
      "数据已经存在 Opera在美提交IPO申请 周鸿祎持股23.4%\n",
      "数据已经存在 面临亚马逊和苹果的威胁，投资者担心Netflix已达顶峰\n",
      "数据已经存在 美国因「光纤断裂」大规模瘫痪，影响微软、Github和Netflix等服务\n",
      "数据已经存在 蔚来汽车今日在京正式向普通用户交付新车\n",
      "数据已经存在 今年至少有一款新iPhone支持双卡双待功能\n",
      "数据已经存在 陆奇将出任拼多多独立董事及薪酬委员会主席\n",
      "数据已经存在 通用汽车：征收汽车税可能导致通用汽车规模萎缩\n",
      "数据已经存在 第一财经CEO周健工离职\n",
      "数据已经存在 微信支付与米其林指南达成战略合作\n",
      "数据已经存在 儿童德商教育品牌「又又国学堂」获数百万天使轮融资\n",
      "数据已经存在 A股这半年，北上资金净买入1602亿\n",
      "数据已经存在 生鲜连锁超市Kroger联合Nuro，或推无人驾驶汽车送货服务\n",
      "数据已经存在 今日起，第三方网络支付全面接入网联清算平台\n",
      "数据已经存在 大数据服务商极光提交招股书：拟筹资最多2亿美元\n",
      "数据已经存在 周亚辉卸任昆仑万维CEO职务，出任Opera公司CEO\n",
      "数据已经存在 腾讯宣布QQ宠物将于9月15日停止运营\n",
      "数据已经存在 哈罗单车COO韩美：摩拜、ofo都在往下走，哈罗的目标是第一\n",
      "数据已经存在 “飞脑”升空，人工智能机器人将协助宇航员工作\n",
      "数据已经存在 拼多多或将于今年8月份挂牌上市\n",
      "数据已经存在 全国股转公司将对103家未披露年报公司实施强制摘牌\n"
     ]
    }
   ],
   "source": [
    "for item in ans['data']['items']:    \n",
    "    title= item['title']\n",
    "    # 检查新闻是否已经存在\n",
    "    cursor = c.execute(\"SELECT Title from News WHERE Title = '{}'\".format(title))\n",
    "    row = cursor.fetchall()\n",
    "    if row:\n",
    "        print('数据已经存在 %s' % title)\n",
    "    else:\n",
    "        time = item['created_at']\n",
    "        desc = item['description']\n",
    "        url = item['news_url']\n",
    "        if re.search('）$',desc):\n",
    "            source = desc.split('（')[-1][:-1]\n",
    "            desc = desc.rstrip('（'+source+'）')\n",
    "        else:\n",
    "            source = '36氪'    \n",
    "            desc = item['description']\n",
    "        c.execute(\"INSERT INTO News (Title, Article, Date, Type, Source, Author, Likes, URL, WaitForCheck, Value)\\\n",
    "             VALUES ('{}','{}','{}','科技','{}','{}',0,'{}',1,0)\".format(title,desc,time,source,source,url))\n",
    "conn.commit()    "
   ]
  },
  {
   "cell_type": "code",
   "execution_count": 9,
   "metadata": {},
   "outputs": [],
   "source": [
    "\n",
    "conn.close()"
   ]
  },
  {
   "cell_type": "code",
   "execution_count": null,
   "metadata": {},
   "outputs": [],
   "source": []
  }
 ],
 "metadata": {
  "kernelspec": {
   "display_name": "Python 3",
   "language": "python",
   "name": "python3"
  },
  "language_info": {
   "codemirror_mode": {
    "name": "ipython",
    "version": 3
   },
   "file_extension": ".py",
   "mimetype": "text/x-python",
   "name": "python",
   "nbconvert_exporter": "python",
   "pygments_lexer": "ipython3",
   "version": "3.6.4"
  }
 },
 "nbformat": 4,
 "nbformat_minor": 2
}
